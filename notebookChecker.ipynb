{
 "cells": [
  {
   "cell_type": "code",
   "execution_count": null,
   "metadata": {},
   "outputs": [],
   "source": [
    "#import require libraries:\n",
    "\n",
    "# *** Should we import these inside functions mixed eview on practices as it is dire to program but if functiond pulled out ad implemented in other code will require this \n",
    "import pandas as pd\n",
    "import csv\n",
    "import numpy as np\n",
    "import matplotlib.pyplot as plt\n",
    "import re\n",
    "import os\n",
    "import json\n",
    "import codecs\n",
    "import ast\n",
    "from io import StringIO\n",
    "\n",
    "from os import path\n",
    "#import word and regex functions for checking \n",
    "from disallowTermCheck import checkTerms\n",
    "from disallowRegexCheck import checkRegex\n",
    "# from unit_testing_nonallowedwords import checkword"
   ]
  },
  {
   "cell_type": "code",
   "execution_count": null,
   "metadata": {
    "tags": [
     "parameters"
    ]
   },
   "outputs": [],
   "source": [
    "#parameters for disallowed list and url \n",
    "notebookList ='This parameter will be passed through papermill'\n",
    "disallowedTermsList = 'This parameter will be passed through papermill'"
   ]
  },
  {
   "cell_type": "code",
   "execution_count": null,
   "metadata": {},
   "outputs": [],
   "source": [
    "def readNotebook(notebookToReadPath):\n",
    "    try:\n",
    "                file = codecs.open(notebookToReadPath, \"r\")\n",
    "                source = file.read()\n",
    "                y = json.loads(source)\n",
    "                currentNotebook = []\n",
    "                for x in y['cells']:\n",
    "                    for x2 in x['source']:\n",
    "                        currentNotebook.append(x2)\n",
    "                \n",
    "                return currentNotebook\n",
    "    except:\n",
    "        print(\"Can't read file\")\n",
    "        return False"
   ]
  },
  {
   "cell_type": "code",
   "execution_count": null,
   "metadata": {},
   "outputs": [],
   "source": [
    "#notebook checker function \n",
    "def notebookChecker(disallowedTermsList, notebookList):\n",
    "    directory = path.dirname(__file__) if \"__file__\" in locals() else os.getcwd()\n",
    "    csvStringIO = StringIO(disallowedTermsList)\n",
    "    sortedList = np.array(pd.read_csv(csvStringIO, sep=\",\", header=None))\n",
    "    termIndexKey = {} \n",
    "    termWeightKey = {}\n",
    "    disallowedList = []\n",
    "    overallTermCount = {}\n",
    "    for item in sortedList:\n",
    "        termIndexKey.update({item[1]:item[0]})\n",
    "        termWeightKey.update({item[1]:item[2]})\n",
    "        disallowedList.append(item[1])\n",
    "        \n",
    "        \n",
    "    # print(f\"index {termIndexKey} \\n weight {termWeightKey}\")\n",
    "    # dictionary of word:rule_num and dictionary of word:weight\n",
    "    regexFile = \"regexFile/regexPatterns.csv\"\n",
    "    regexList = pd.read_csv(path.join(directory, regexFile))\n",
    "    sortedregexList = pd.DataFrame(regexList, columns=['index','pattern','weight'])\n",
    "    sortedregexList = np.array(sortedregexList)\n",
    "    patternIndexKey = {}\n",
    "    patternWeightKey ={}\n",
    "    \n",
    "    disallowedregexList = []\n",
    "    #here we take the regex patterns and ad them to the list to be checked by regex function\n",
    "    for item in sortedregexList:\n",
    "        patternIndexKey.update({item[1]:item[0]})\n",
    "        patternWeightKey.update({item[1]:item[2]})\n",
    "        disallowedregexList.append(item[1])\n",
    "    # print(disallowedregexList)\n",
    "    overallPatternCount = {pattern : 0 for pattern in disallowedregexList}\n",
    "\n",
    "    checkedNotebooks = {}\n",
    "    sortedNotebookList = StringIO(notebookList)\n",
    "    print(sortedNotebookList)\n",
    "    uncheckedNotebooks = np.array(pd.read_csv(sortedNotebookList, sep=\",\", header=None))\n",
    "    print(uncheckedNotebooks)\n",
    "    # print (f\"\\n Here we open and read the notebooks due to be open {uncheckedNotebooks} \\n\")\n",
    "    \n",
    "\n",
    "    #loop through files from list\n",
    "\n",
    "    for uncheckedNotebook in uncheckedNotebooks:\n",
    "        \n",
    "        overallScore = 0\n",
    "        notebook = {}\n",
    "        # here we check line by line the the terms found which are added to a list \n",
    "        notebookToRead = str(f\"{path.join(directory, uncheckedNotebook[0])}\")\n",
    "        contents = readNotebook(notebookToRead)\n",
    "        \n",
    "        lineNum = 1\n",
    "        for item in sortedList:\n",
    "            overallTermCount[item[1]] = 0\n",
    "        \n",
    "        overallTermCountByLine = {}\n",
    "        overallPatternCountByLine = {}\n",
    "        \n",
    "        for contentLine in contents:\n",
    "            # print(f\"\\n content line {contentLine} \\n\")\n",
    "            termResults = checkTerms(contentLine, disallowedList)\n",
    "            if termResults != False:\n",
    "                # print(termResults)\n",
    "                overallTermCountByLine[lineNum] = termResults\n",
    "                for term in overallTermCount:\n",
    "                    if termResults[term] > 0 :\n",
    "                        overallTermCount[term] += termResults[term]\n",
    "                        overallScore += termResults[term]\n",
    "            else:\n",
    "                overallTermCountByLine[lineNum] = 'none found'\n",
    "            \n",
    "            regExOutput = checkRegex(disallowedregexList, contentLine)\n",
    "            overallPatternCountByLine[lineNum] = regExOutput\n",
    "            for patternsFound in regExOutput:\n",
    "                overallPatternCount[patternsFound] += regExOutput[patternsFound]\n",
    "                overallScore += regExOutput[patternsFound]\n",
    "            lineNum += 1\n",
    "        print(uncheckedNotebook)\n",
    "        print(overallTermCount)\n",
    "        # print(overallPatternCount)\n",
    "        # print(overallTermCountByLine)\n",
    "        # # print(overallPatternCountByLine)\n",
    "        print(overallScore)\n",
    "        checkedNotebooks.update({str(uncheckedNotebook): {'overallScore': overallScore,'overallTermCount' : str(overallTermCount),'overallTermCountByLine' : str(overallTermCountByLine), 'overallPatternCount' : str(overallPatternCount),'overallPatternCountByLine' : str(overallPatternCountByLine)}})\n",
    "  \n",
    "        \n",
    "    return checkedNotebooks \n",
    "        \n",
    "\n",
    "notebookResults = notebookChecker(disallowedTermsList, notebookList)\n",
    "# print(notebookResults)"
   ]
  },
  {
   "cell_type": "markdown",
   "metadata": {},
   "source": [
    "# Here we check results"
   ]
  },
  {
   "cell_type": "code",
   "execution_count": null,
   "metadata": {},
   "outputs": [],
   "source": [
    "totals = {}\n",
    "# print(notebookResults.keys())\n",
    "for result in notebookResults:  \n",
    "    totals[result] = notebookResults[result].get('overallScore')\n",
    "    # return back to dictionary for graphs\n",
    "# print(totals)\n"
   ]
  },
  {
   "cell_type": "markdown",
   "metadata": {},
   "source": [
    "# short description"
   ]
  },
  {
   "cell_type": "code",
   "execution_count": null,
   "metadata": {},
   "outputs": [],
   "source": [
    "orderedResults = { nb:score for nb,score in sorted(totals.items(), key=lambda item:item[1])}\n",
    "df = pd.DataFrame.from_dict(orderedResults, orient='index', columns=[('Total Score')])\n",
    "print(df)\n",
    "#PLot examples\n",
    "f = plt.figure()\n",
    "f.set_figwidth(3)\n",
    "f.set_figheight(5)\n",
    "plt.bar(range(len(orderedResults)),list(orderedResults.values()),align='center',color=['r','g','b'])\n",
    "plt.xticks(range(len(orderedResults)),list(orderedResults.keys()))\n",
    "plt.xlabel('Notebook Names')\n",
    "plt.ylabel('Score')\n",
    "plt.show\n",
    "\n",
    "print('Regex patterns Found by notebook')\n",
    "for result in notebookResults:\n",
    "    terms = ast.literal_eval(notebookResults[result]['overallPatternCount'])\n",
    "    terms = pd.DataFrame.from_dict(terms, orient='index', columns=[(result)])\n",
    "    print(terms)\n",
    "\n",
    "print('Terms Found by notebook')\n",
    "for result in notebookResults:\n",
    "    terms = ast.literal_eval(notebookResults[result]['overallTermCount'])\n",
    "    g = plt.figure()\n",
    "    g.set_figwidth(3)\n",
    "    g.set_figheight(5)\n",
    "    plt.bar(range(len(terms)),list(terms.values()),align='center',color=['r','g','b'])\n",
    "    plt.xticks(range(len(terms)),list(terms.keys()))\n",
    "    plt.xlabel(f\" {result}\")\n",
    "    plt.ylabel('Score')\n",
    "    plt.show\n",
    "\n"
   ]
  },
  {
   "cell_type": "markdown",
   "metadata": {},
   "source": [
    "# Long description"
   ]
  },
  {
   "cell_type": "code",
   "execution_count": null,
   "metadata": {},
   "outputs": [],
   "source": [
    "print('Regex patterns Found by notebook')\n",
    "for result in notebookResults:\n",
    "    print(f\"\\n{result}\")\n",
    "    patterns = ast.literal_eval(notebookResults[result]['overallPatternCountByLine'])\n",
    "    # terms = pd.DataFrame.from_dict(terms, orient='index', columns=[(result)])\n",
    "    for pattern in patterns:\n",
    "        print(f\"{pattern} : {patterns[pattern]} \")"
   ]
  }
 ],
 "metadata": {
  "kernelspec": {
   "display_name": "Python 3.9.12 ('base')",
   "language": "python",
   "name": "python3"
  },
  "language_info": {
   "codemirror_mode": {
    "name": "ipython",
    "version": 3
   },
   "file_extension": ".py",
   "mimetype": "text/x-python",
   "name": "python",
   "nbconvert_exporter": "python",
   "pygments_lexer": "ipython3",
   "version": "3.9.12"
  },
  "orig_nbformat": 4,
  "vscode": {
   "interpreter": {
    "hash": "40d3a090f54c6569ab1632332b64b2c03c39dcf918b08424e98f38b5ae0af88f"
   }
  }
 },
 "nbformat": 4,
 "nbformat_minor": 2
}

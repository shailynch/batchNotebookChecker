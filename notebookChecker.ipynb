{
 "cells": [
  {
   "cell_type": "code",
   "execution_count": 1,
   "metadata": {},
   "outputs": [],
   "source": [
    "import pandas as pd\n",
    "import csv\n",
    "import numpy as np\n",
    "import matplotlib.pyplot as plt\n",
    "import re\n",
    "import disallowedTermCheck\n",
    "import urlRegExChecker\n",
    "import emailRegExChecker"
   ]
  },
  {
   "cell_type": "code",
   "execution_count": 2,
   "metadata": {
    "tags": [
     "parameters"
    ]
   },
   "outputs": [],
   "source": [
    "#parameters for deny list and url \n",
    "denyListURL = \"denylist.csv\"\n",
    "notebookListURL =\"notebooklist.csv\""
   ]
  },
  {
   "cell_type": "code",
   "execution_count": null,
   "metadata": {},
   "outputs": [],
   "source": []
  },
  {
   "cell_type": "code",
   "execution_count": 3,
   "metadata": {},
   "outputs": [],
   "source": [
    "\n",
    "#csv function ( to be implemented later)\n",
    "#online dataset function (to be implemented later)"
   ]
  },
  {
   "cell_type": "code",
   "execution_count": 4,
   "metadata": {},
   "outputs": [
    {
     "name": "stdout",
     "output_type": "stream",
     "text": [
      "\n",
      " Here we open and read the notebooks due to be open [['sample.ipynb']\n",
      " ['sample2.ipynb']\n",
      " ['Lab03.ipynb']] \n",
      "\n",
      "{\"['sample.ipynb']\": {'security': 52, 'class': 9, 'people': 20, 'urls': 1, 'emails': 4}, \"['sample2.ipynb']\": {'security': 52, 'class': 9, 'people': 20, 'urls': 0, 'emails': 0}, \"['Lab03.ipynb']\": {'class': 36, 'urls': 8, 'emails': 0}}\n"
     ]
    }
   ],
   "source": [
    "\n",
    "#notebook checker function \n",
    "def notebookChecker(denyListURL, notebookListURL):\n",
    "    denyTerms = pd.read_csv('denylist.csv')\n",
    "    deniedTerms = np.array(denyTerms)\n",
    "    denyList = {}\n",
    "    for terms in deniedTerms:\n",
    "        denyList.update({terms[0]:terms[1]})\n",
    "    # print (f\"\\n Here we check the terms and their corresponding weights {denyList} \\n\")    \n",
    "    \n",
    "    disallowedTerms = []\n",
    "    for term in denyList.keys():\n",
    "        disallowedTerms += [term]\n",
    "    #print (f\"\\n here we assign the terms to be checked to a list {terms} \\n\")\n",
    "    \n",
    "    checkedNotebooks = {}\n",
    "    \n",
    "    notebookList = pd.read_csv('notebooklist.csv')\n",
    "    uncheckedNotebooks = np.array(notebookList)\n",
    "    print (f\"\\n Here we open and read the notebooks due to be open {uncheckedNotebooks} \\n\")\n",
    "    \n",
    "\n",
    "    #loop through files from list\n",
    "    for uncheckedNotebook in uncheckedNotebooks:\n",
    "        notebook = {}\n",
    "        urlsFound = 0\n",
    "        emailsFound = 0\n",
    "        currentNotebook = open(str(f\"notebookSamples/{uncheckedNotebook[0]}\"), \"r\")\n",
    "        # here we check line by line the the terms found which are added to a list \n",
    "        disallowedTermCount = {term : 0 for term in disallowedTerms}\n",
    "        \n",
    "        for line in currentNotebook:\n",
    "            #loop trough line by line\n",
    "            emailsFound += emailRegExChecker.emailChecker(line) \n",
    "            if urlRegExChecker.urlChecker(line) == True:\n",
    "                urlsFound += 1\n",
    "\n",
    "            checkedLine = disallowedTermCheck.termCheck(disallowedTerms, line)\n",
    "            for term in checkedLine:\n",
    "                if checkedLine[term] > 0:\n",
    "                    disallowedTermCount[term] += 1\n",
    "                    notebook.update({term: int(disallowedTermCount[term]) * int(denyList[term])}) \n",
    "                    checkedNotebooks.update({str(uncheckedNotebook): notebook})\n",
    "        checkedNotebooks[str(uncheckedNotebook)]['urls'] = urlsFound\n",
    "        checkedNotebooks[str(uncheckedNotebook)]['emails'] = emailsFound\n",
    "\n",
    "    return checkedNotebooks \n",
    "    \n",
    "    \n",
    "notebookResults = notebookChecker(denyListURL, notebookListURL)\n",
    "print(notebookResults)"
   ]
  },
  {
   "cell_type": "code",
   "execution_count": 5,
   "metadata": {},
   "outputs": [
    {
     "name": "stdout",
     "output_type": "stream",
     "text": [
      "{'sample': 86, 'sample2': 81, 'Lab03': 44}\n"
     ]
    },
    {
     "data": {
      "text/plain": [
       "<function matplotlib.pyplot.show(close=None, block=None)>"
      ]
     },
     "execution_count": 5,
     "metadata": {},
     "output_type": "execute_result"
    },
    {
     "data": {
      "image/png": "[encoded data removed]",
      "text/plain": [
       "<Figure size 216x360 with 1 Axes>"
      ]
     },
     "metadata": {
      "needs_background": "light"
     },
     "output_type": "display_data"
    }
   ],
   "source": [
    "totals = {}\n",
    "\n",
    "for nb in notebookResults:\n",
    "    results = 0\n",
    "    for term in notebookResults[nb]:\n",
    "        results += notebookResults[nb][term]\n",
    "    nb = nb.rsplit('.', 1)[0]\n",
    "    nb = nb.rsplit('\\'', 1)[1]\n",
    "    totals[nb] = results\n",
    "print(totals)\n",
    "orderedResults = {term : score for term,score in sorted(totals.items(), key=lambda item:item[1])}\n",
    "\n",
    "#PLot examples\n",
    "f = plt.figure()\n",
    "f.set_figwidth(3)\n",
    "f.set_figheight(5)\n",
    "plt.bar(range(len(orderedResults)),list(orderedResults.values()),align='center',color=['r','g','b'])\n",
    "plt.xticks(range(len(orderedResults)),list(orderedResults.keys()))\n",
    "plt.xlabel('Notebook Names')\n",
    "plt.ylabel('Score')\n",
    "plt.show"
   ]
  },
  {
   "cell_type": "code",
   "execution_count": 6,
   "metadata": {},
   "outputs": [
    {
     "data": {
      "image/png": "[encoded data removed]",
      "text/plain": [
       "<Figure size 216x360 with 1 Axes>"
      ]
     },
     "metadata": {
      "needs_background": "light"
     },
     "output_type": "display_data"
    },
    {
     "data": {
      "image/png": "[encoded data removed]",
      "text/plain": [
       "<Figure size 216x360 with 1 Axes>"
      ]
     },
     "metadata": {
      "needs_background": "light"
     },
     "output_type": "display_data"
    },
    {
     "data": {
      "image/png": "[encoded data removed]",
      "text/plain": [
       "<Figure size 216x360 with 1 Axes>"
      ]
     },
     "metadata": {
      "needs_background": "light"
     },
     "output_type": "display_data"
    }
   ],
   "source": [
    "for result in notebookResults:\n",
    "    terms = notebookResults[result]\n",
    "    g = plt.figure()\n",
    "    g.set_figwidth(3)\n",
    "    g.set_figheight(5)\n",
    "    plt.bar(range(len(terms)),list(terms.values()),align='center',color=['r','g','b'])\n",
    "    plt.xticks(range(len(terms)),list(terms.keys()))\n",
    "    plt.xlabel(f\" {result}\")\n",
    "    plt.ylabel('Score')\n",
    "    plt.show"
   ]
  },
  {
   "cell_type": "code",
   "execution_count": 7,
   "metadata": {},
   "outputs": [
    {
     "name": "stdout",
     "output_type": "stream",
     "text": [
      "Notebook, terms found\n",
      "['sample.ipynb'] {'security': 52, 'class': 9, 'people': 20, 'urls': 1, 'emails': 4}\n",
      "['sample2.ipynb'] {'security': 52, 'class': 9, 'people': 20, 'urls': 0, 'emails': 0}\n",
      "['Lab03.ipynb'] {'class': 36, 'urls': 8, 'emails': 0}\n"
     ]
    }
   ],
   "source": [
    "#print in table\n",
    "print('Notebook, terms found')\n",
    "for k,v in notebookResults.items():\n",
    "    print(k,v)"
   ]
  },
  {
   "cell_type": "code",
   "execution_count": 13,
   "metadata": {},
   "outputs": [
    {
     "name": "stdout",
     "output_type": "stream",
     "text": [
      "terms found\n",
      "                   security  class  people  urls  emails\n",
      "['sample.ipynb']       52.0      9    20.0     1       4\n",
      "['sample2.ipynb']      52.0      9    20.0     0       0\n",
      "['Lab03.ipynb']         NaN     36     NaN     8       0\n"
     ]
    }
   ],
   "source": [
    "df = pd.DataFrame.from_dict(notebookResults, orient='index')\n",
    "print('terms found:')\n",
    "print(df)"
   ]
  },
  {
   "cell_type": "code",
   "execution_count": 9,
   "metadata": {},
   "outputs": [],
   "source": [
    "#do we add open CSV function\n",
    "#do we add open dataset function "
   ]
  }
 ],
 "metadata": {
  "kernelspec": {
   "display_name": "Python 3 (ipykernel)",
   "language": "python",
   "name": "python3"
  },
  "language_info": {
   "codemirror_mode": {
    "name": "ipython",
    "version": 3
   },
   "file_extension": ".py",
   "mimetype": "text/x-python",
   "name": "python",
   "nbconvert_exporter": "python",
   "pygments_lexer": "ipython3",
   "version": "3.9.12"
  },
  "vscode": {
   "interpreter": {
    "hash": "40d3a090f54c6569ab1632332b64b2c03c39dcf918b08424e98f38b5ae0af88f"
   }
  }
 },
 "nbformat": 4,
 "nbformat_minor": 2
}

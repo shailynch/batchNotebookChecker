{
 "cells": [
  {
   "cell_type": "code",
   "execution_count": null,
   "metadata": {},
   "outputs": [],
   "source": [
    "# classsecurity\n",
    "# security \n",
    "# securityasdapeopleclass\n",
    "# securitypeopleclass\n",
    "# https://www.asda1.com\n",
    "# https://www.asda1.com\n",
    "# http://www.asda1.com\n",
    "# http://asda1@email.com\n"
   ]
  },
  {
   "attachments": {},
   "cell_type": "markdown",
   "metadata": {},
   "source": [
    "https://www.asda1.com\n",
    "classsecurity\n",
    "security \n",
    "securityasdapeopleclass\n",
    "securitypeopleclass\n",
    "http://www.asda1.com"
   ]
  },
  {
   "cell_type": "code",
   "execution_count": null,
   "metadata": {},
   "outputs": [],
   "source": [
    "url = \"https://www.asda.com\"\n",
    "s1 = \"classsecurity\"\n",
    "s2 = \"security\" \n",
    "s3 = \"securityasdapeopleclass\"\n",
    "s4 = \"securitypeopleclass\"\n",
    "num1 = 50\n",
    "num2 = 100\n",
    "security\n",
    "security\n",
    "security\n",
    "security"
   ]
  }
 ],
 "metadata": {
  "kernelspec": {
   "display_name": "Python 3.9.13 ('base')",
   "language": "python",
   "name": "python3"
  },
  "language_info": {
   "name": "python",
   "version": "3.9.13 (main, Aug 25 2022, 23:51:50) [MSC v.1916 64 bit (AMD64)]"
  },
  "orig_nbformat": 4,
  "vscode": {
   "interpreter": {
    "hash": "ad2bdc8ecc057115af97d19610ffacc2b4e99fae6737bb82f5d7fb13d2f2c186"
   }
  }
 },
 "nbformat": 4,
 "nbformat_minor": 2
}

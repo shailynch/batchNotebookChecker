{
 "cells": [
  {
   "cell_type": "code",
   "execution_count": null,
   "id": "8e155aa8",
   "metadata": {},
   "outputs": [],
   "source": [
    "#parameters for deny list and url \n",
    "denyListURL = \"denylist.csv\"\n",
    "notebookListURL =\"notebooklist.csv\""
   ]
  },
  {
   "cell_type": "code",
   "execution_count": 1,
   "id": "4787d674",
   "metadata": {
    "execution": {
     "iopub.execute_input": "2022-11-21T10:07:23.626248Z",
     "iopub.status.busy": "2022-11-21T10:07:23.626062Z",
     "iopub.status.idle": "2022-11-21T10:07:23.632349Z",
     "shell.execute_reply": "2022-11-21T10:07:23.632019Z"
    },
    "papermill": {
     "duration": 0.014095,
     "end_time": "2022-11-21T10:07:23.633630",
     "exception": false,
     "start_time": "2022-11-21T10:07:23.619535",
     "status": "completed"
    },
    "tags": [
     "injected-parameters"
    ]
   },
   "outputs": [],
   "source": [
    "# Parameters\n",
    "denyListURL = \"denylist.csv\"\n"
   ]
  },
  {
   "cell_type": "code",
   "execution_count": 2,
   "id": "6e9f3152",
   "metadata": {
    "execution": {
     "iopub.execute_input": "2022-11-21T10:07:23.637474Z",
     "iopub.status.busy": "2022-11-21T10:07:23.637364Z",
     "iopub.status.idle": "2022-11-21T10:07:25.180020Z",
     "shell.execute_reply": "2022-11-21T10:07:25.179633Z"
    },
    "papermill": {
     "duration": 1.546309,
     "end_time": "2022-11-21T10:07:25.181803",
     "exception": false,
     "start_time": "2022-11-21T10:07:23.635494",
     "status": "completed"
    },
    "tags": []
   },
   "outputs": [],
   "source": [
    "import pandas as pd\n",
    "import csv\n",
    "import numpy as np\n",
    "import matplotlib.pyplot as plt"
   ]
  },
  {
   "cell_type": "code",
   "execution_count": 4,
   "id": "4dc8886b",
   "metadata": {
    "execution": {
     "iopub.execute_input": "2022-11-21T10:07:25.193055Z",
     "iopub.status.busy": "2022-11-21T10:07:25.192885Z",
     "iopub.status.idle": "2022-11-21T10:07:25.195720Z",
     "shell.execute_reply": "2022-11-21T10:07:25.195261Z"
    },
    "papermill": {
     "duration": 0.006426,
     "end_time": "2022-11-21T10:07:25.196936",
     "exception": false,
     "start_time": "2022-11-21T10:07:25.190510",
     "status": "completed"
    },
    "tags": []
   },
   "outputs": [],
   "source": [
    "#forbidden words function\n",
    "def disallowedTermCheck(deniedTerms, line): #numpy array or terms and weights \n",
    "    terms_count = {term : 0 for term in deniedTerms}\n",
    "    for term in deniedTerms:\n",
    "                #loop through terms \n",
    "                if term in line:\n",
    "                    #check term in line\n",
    "                    terms_count[term] += 1\n",
    "#                     print(terms_count) #to see this carried out line by line\n",
    "    return terms_count\n"
   ]
  },
  {
   "cell_type": "code",
   "execution_count": 5,
   "id": "1eb86aff",
   "metadata": {
    "execution": {
     "iopub.execute_input": "2022-11-21T10:07:25.200705Z",
     "iopub.status.busy": "2022-11-21T10:07:25.200558Z",
     "iopub.status.idle": "2022-11-21T10:07:25.205760Z",
     "shell.execute_reply": "2022-11-21T10:07:25.205493Z"
    },
    "papermill": {
     "duration": 0.00871,
     "end_time": "2022-11-21T10:07:25.207200",
     "exception": false,
     "start_time": "2022-11-21T10:07:25.198490",
     "status": "completed"
    },
    "tags": []
   },
   "outputs": [
    {
     "data": {
      "text/plain": [
       "True"
      ]
     },
     "execution_count": 5,
     "metadata": {},
     "output_type": "execute_result"
    }
   ],
   "source": [
    "#url emails - extra functionality online datasets and csv checks\n",
    "def regexChecker(line):\n",
    "    import re \n",
    "    regex = r\"(?i)\\b((?:https?://|www\\d{0,3}[.]|[a-z0-9.\\-]+[.][a-z]{2,4}/)(?:[^\\s()<>]+|\\(([^\\s()<>]+|(\\([^\\s()<>]+\\)))*\\))+(?:\\(([^\\s()<>]+|(\\([^\\s()<>]+\\)))*\\)|[^\\s`!()\\[\\]{};:'\\\".,<>?«»“”‘’]))\"\n",
    "    url = re.findall(regex,line) \n",
    "    line_check = True\n",
    "    if not url:\n",
    "        line_check = False\n",
    "        \n",
    "    #expand to take url / email and true\n",
    "        \n",
    "    return line_check\n",
    "\n",
    "regexChecker('https://www.asda.ie')"
   ]
  },
  {
   "cell_type": "code",
   "execution_count": 6,
   "id": "f2cbbd6d",
   "metadata": {
    "execution": {
     "iopub.execute_input": "2022-11-21T10:07:25.210608Z",
     "iopub.status.busy": "2022-11-21T10:07:25.210485Z",
     "iopub.status.idle": "2022-11-21T10:07:25.212392Z",
     "shell.execute_reply": "2022-11-21T10:07:25.211911Z"
    },
    "papermill": {
     "duration": 0.004837,
     "end_time": "2022-11-21T10:07:25.213520",
     "exception": false,
     "start_time": "2022-11-21T10:07:25.208683",
     "status": "completed"
    },
    "tags": []
   },
   "outputs": [],
   "source": [
    "\n",
    "#csv function ( to be implemented later)\n",
    "#online dataset function (to be implemented later)"
   ]
  },
  {
   "cell_type": "code",
   "execution_count": 7,
   "id": "1b3ce62c",
   "metadata": {
    "execution": {
     "iopub.execute_input": "2022-11-21T10:07:25.217182Z",
     "iopub.status.busy": "2022-11-21T10:07:25.217040Z",
     "iopub.status.idle": "2022-11-21T10:07:25.361391Z",
     "shell.execute_reply": "2022-11-21T10:07:25.361015Z"
    },
    "papermill": {
     "duration": 0.147593,
     "end_time": "2022-11-21T10:07:25.362674",
     "exception": false,
     "start_time": "2022-11-21T10:07:25.215081",
     "status": "completed"
    },
    "tags": []
   },
   "outputs": [
    {
     "name": "stdout",
     "output_type": "stream",
     "text": [
      "\n",
      " Here we open and read the notebooks due to be open [['sample.ipynb']\n",
      " ['sample2.ipynb']\n",
      " ['Lab03.ipynb']] \n",
      "\n",
      "{\"['sample.ipynb']\": {'security': 52, 'class': 9, 'people': 20, 'urlsFound': 1}, \"['sample2.ipynb']\": {'security': 52, 'class': 9, 'people': 20, 'urlsFound': 0}, \"['Lab03.ipynb']\": {'class': 36, 'urlsFound': 8}}\n"
     ]
    }
   ],
   "source": [
    "\n",
    "#main \n",
    "\n",
    "#notebook checker function \n",
    "# open file\n",
    "# store list of notebooks \n",
    "# iterate through directory \n",
    "    #file x found and opened\n",
    "    # iterate through line\n",
    "            #iteration x \n",
    "            #url function\n",
    "            #regex function\n",
    "            #store results\n",
    "    #document results of entire notebook\n",
    "#document results of all notebooks\n",
    "\n",
    "#display results in various formats \n",
    "\n",
    "\n",
    "def notebookChecker(denyListURL, notebookListURL):\n",
    "    denyTerms = pd.read_csv('denylist.csv')\n",
    "    deniedTerms = np.array(denyTerms)\n",
    "    denyList = {}\n",
    "    for terms in deniedTerms:\n",
    "        denyList.update({terms[0]:terms[1]})\n",
    "    # print (f\"\\n Here we check the terms and their corresponding weights {denyList} \\n\")    \n",
    "    \n",
    "    disallowedTerms = []\n",
    "    for term in denyList.keys():\n",
    "        disallowedTerms += [term]\n",
    "    #print (f\"\\n here we assign the terms to be checked to a list {terms} \\n\")\n",
    "    \n",
    "    checkedNotebooks = {}\n",
    "    \n",
    "    notebookList = pd.read_csv('notebooklist.csv')\n",
    "    uncheckedNotebooks = np.array(notebookList)\n",
    "    print (f\"\\n Here we open and read the notebooks due to be open {uncheckedNotebooks} \\n\")\n",
    "    \n",
    "\n",
    "    #loop through files from list\n",
    "    for uncheckedNotebook in uncheckedNotebooks:\n",
    "        notebook = {}\n",
    "        urlsFound = 0\n",
    "        currentNotebook = open(str(f\"notebooks/{uncheckedNotebook[0]}\"), \"r\")\n",
    "        # here we check line by line the the terms found which are added to a list \n",
    "        disallowedTermCount = {term : 0 for term in disallowedTerms}\n",
    "        \n",
    "        for line in currentNotebook:\n",
    "            #loop trough line by line\n",
    "            if regexChecker(line) == True:\n",
    "                urlsFound += 1\n",
    "            checkedLine = disallowedTermCheck(disallowedTerms, line)\n",
    "            for term in checkedLine:\n",
    "                if checkedLine[term] > 0:\n",
    "                    disallowedTermCount[term] += 1\n",
    "                    notebook.update({term: int(disallowedTermCount[term]) * int(denyList[term])}) \n",
    "                    checkedNotebooks.update({str(uncheckedNotebook): notebook})\n",
    "        checkedNotebooks[str(uncheckedNotebook)]['urlsFound'] = urlsFound\n",
    "\n",
    "    return checkedNotebooks \n",
    "    \n",
    "    \n",
    "checkNotebooks = notebookChecker(denyListURL, notebookListURL)\n",
    "print(checkNotebooks)"
   ]
  },
  {
   "cell_type": "code",
   "execution_count": 8,
   "id": "eb6996d7",
   "metadata": {
    "execution": {
     "iopub.execute_input": "2022-11-21T10:07:25.367837Z",
     "iopub.status.busy": "2022-11-21T10:07:25.367702Z",
     "iopub.status.idle": "2022-11-21T10:07:25.437224Z",
     "shell.execute_reply": "2022-11-21T10:07:25.436942Z"
    },
    "papermill": {
     "duration": 0.073103,
     "end_time": "2022-11-21T10:07:25.438396",
     "exception": false,
     "start_time": "2022-11-21T10:07:25.365293",
     "status": "completed"
    },
    "tags": []
   },
   "outputs": [
    {
     "name": "stdout",
     "output_type": "stream",
     "text": [
      "{'sample': 82, 'sample2': 81, 'Lab03': 44}\n"
     ]
    },
    {
     "data": {
      "text/plain": [
       "<function matplotlib.pyplot.show(close=None, block=None)>"
      ]
     },
     "execution_count": 8,
     "metadata": {},
     "output_type": "execute_result"
    },
    {
     "data": {
      "image/png": "[encoded data removed]",
      "text/plain": [
       "<Figure size 216x360 with 1 Axes>"
      ]
     },
     "metadata": {
      "needs_background": "light"
     },
     "output_type": "display_data"
    }
   ],
   "source": [
    "\n",
    "totals = {}\n",
    "for nb in checkNotebooks:\n",
    "    results = 0\n",
    "    for term in checkNotebooks[nb]:\n",
    "        results += checkNotebooks[nb][term]\n",
    "    nb = nb.rsplit('.', 1)[0]\n",
    "    nb = nb.rsplit('\\'', 1)[1]\n",
    "    totals[nb] = results\n",
    "print(totals)\n",
    "#PLot examples\n",
    "f = plt.figure()\n",
    "f.set_figwidth(3)\n",
    "f.set_figheight(5)\n",
    "plt.bar(range(len(totals)),list(totals.values()),align='center',color=['r','g','b'])\n",
    "plt.xticks(range(len(totals)),list(totals.keys()))\n",
    "plt.xlabel('Notebook Names')\n",
    "plt.ylabel('Score')\n",
    "plt.show"
   ]
  },
  {
   "cell_type": "code",
   "execution_count": 9,
   "id": "a69703f5",
   "metadata": {
    "execution": {
     "iopub.execute_input": "2022-11-21T10:07:25.442694Z",
     "iopub.status.busy": "2022-11-21T10:07:25.442555Z",
     "iopub.status.idle": "2022-11-21T10:07:25.581429Z",
     "shell.execute_reply": "2022-11-21T10:07:25.581113Z"
    },
    "papermill": {
     "duration": 0.142284,
     "end_time": "2022-11-21T10:07:25.582554",
     "exception": false,
     "start_time": "2022-11-21T10:07:25.440270",
     "status": "completed"
    },
    "tags": []
   },
   "outputs": [
    {
     "data": {
      "image/png": "[encoded data removed]",
      "text/plain": [
       "<Figure size 216x360 with 1 Axes>"
      ]
     },
     "metadata": {
      "needs_background": "light"
     },
     "output_type": "display_data"
    },
    {
     "data": {
      "image/png": "[encoded data removed]",
      "text/plain": [
       "<Figure size 216x360 with 1 Axes>"
      ]
     },
     "metadata": {
      "needs_background": "light"
     },
     "output_type": "display_data"
    },
    {
     "data": {
      "image/png": "[encoded data removed]",
      "text/plain": [
       "<Figure size 216x360 with 1 Axes>"
      ]
     },
     "metadata": {
      "needs_background": "light"
     },
     "output_type": "display_data"
    }
   ],
   "source": [
    "for result in checkNotebooks:\n",
    "    terms = checkNotebooks[result]\n",
    "    g = plt.figure()\n",
    "    g.set_figwidth(3)\n",
    "    g.set_figheight(5)\n",
    "    plt.bar(range(len(terms)),list(terms.values()),align='center',color=['r','g','b'])\n",
    "    plt.xticks(range(len(terms)),list(terms.keys()))\n",
    "    plt.xlabel(f\" {result}\")\n",
    "    plt.ylabel('Score')\n",
    "    plt.show"
   ]
  },
  {
   "cell_type": "code",
   "execution_count": 10,
   "id": "9ec7243c",
   "metadata": {
    "execution": {
     "iopub.execute_input": "2022-11-21T10:07:25.587663Z",
     "iopub.status.busy": "2022-11-21T10:07:25.587495Z",
     "iopub.status.idle": "2022-11-21T10:07:25.589763Z",
     "shell.execute_reply": "2022-11-21T10:07:25.589347Z"
    },
    "papermill": {
     "duration": 0.006008,
     "end_time": "2022-11-21T10:07:25.590864",
     "exception": false,
     "start_time": "2022-11-21T10:07:25.584856",
     "status": "completed"
    },
    "tags": []
   },
   "outputs": [],
   "source": [
    "#do we add open CSV function\n",
    "#do we add open dataset function "
   ]
  }
 ],
 "metadata": {
  "kernelspec": {
   "display_name": "Python 3.11.0 64-bit",
   "language": "python",
   "name": "python3"
  },
  "language_info": {
   "codemirror_mode": {
    "name": "ipython",
    "version": 3
   },
   "file_extension": ".py",
   "mimetype": "text/x-python",
   "name": "python",
   "nbconvert_exporter": "python",
   "pygments_lexer": "ipython3",
   "version": "3.11.0"
  },
  "papermill": {
   "default_parameters": {},
   "duration": 3.838418,
   "end_time": "2022-11-21T10:07:25.798565",
   "environment_variables": {},
   "exception": null,
   "input_path": "notebookChecker.ipynb",
   "output_path": "checkedNotebooks2022.ipynb",
   "parameters": {
    "denyListURL": "denylist.csv"
   },
   "start_time": "2022-11-21T10:07:21.960147",
   "version": "2.4.0"
  },
  "vscode": {
   "interpreter": {
    "hash": "aee8b7b246df8f9039afb4144a1f6fd8d2ca17a180786b69acc140d282b71a49"
   }
  }
 },
 "nbformat": 4,
 "nbformat_minor": 5
}

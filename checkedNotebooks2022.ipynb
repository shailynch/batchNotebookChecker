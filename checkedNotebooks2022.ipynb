{
 "cells": [
  {
   "cell_type": "markdown",
   "id": "98446286",
   "metadata": {
    "tags": [
     "papermill-error-cell-tag"
    ]
   },
   "source": [
    "<span style=\"color:red; font-family:Helvetica Neue, Helvetica, Arial, sans-serif; font-size:2em;\">An Exception was encountered at '<a href=\"#papermill-error-cell\">In [5]</a>'.</span>"
   ]
  },
  {
   "cell_type": "code",
   "execution_count": 1,
   "id": "4f88e341",
   "metadata": {
    "execution": {
     "iopub.execute_input": "2022-11-24T14:52:56.685451Z",
     "iopub.status.busy": "2022-11-24T14:52:56.684678Z",
     "iopub.status.idle": "2022-11-24T14:52:58.057212Z",
     "shell.execute_reply": "2022-11-24T14:52:58.056889Z"
    },
    "papermill": {
     "duration": 1.383681,
     "end_time": "2022-11-24T14:52:58.058755",
     "exception": false,
     "start_time": "2022-11-24T14:52:56.675074",
     "status": "completed"
    },
    "tags": []
   },
   "outputs": [],
   "source": [
    "import pandas as pd\n",
    "import csv\n",
    "import numpy as np\n",
    "import matplotlib.pyplot as plt\n",
    "import re\n",
    "import disallowedTermCheck\n",
    "import urlRegExChecker\n",
    "import emailRegExChecker"
   ]
  },
  {
   "cell_type": "code",
   "execution_count": 2,
   "id": "0ccd9ca8",
   "metadata": {
    "execution": {
     "iopub.execute_input": "2022-11-24T14:52:58.062980Z",
     "iopub.status.busy": "2022-11-24T14:52:58.062835Z",
     "iopub.status.idle": "2022-11-24T14:52:58.064913Z",
     "shell.execute_reply": "2022-11-24T14:52:58.064571Z"
    },
    "papermill": {
     "duration": 0.005231,
     "end_time": "2022-11-24T14:52:58.066047",
     "exception": false,
     "start_time": "2022-11-24T14:52:58.060816",
     "status": "completed"
    },
    "tags": [
     "parameters"
    ]
   },
   "outputs": [],
   "source": [
    "#parameters for deny list and url \n",
    "denyListURL = \"denylist.csv\"\n",
    "notebookListURL =\"notebooklist.csv\""
   ]
  },
  {
   "cell_type": "code",
   "execution_count": 3,
   "id": "99cf86f0",
   "metadata": {
    "execution": {
     "iopub.execute_input": "2022-11-24T14:52:58.069705Z",
     "iopub.status.busy": "2022-11-24T14:52:58.069495Z",
     "iopub.status.idle": "2022-11-24T14:52:58.071298Z",
     "shell.execute_reply": "2022-11-24T14:52:58.071048Z"
    },
    "papermill": {
     "duration": 0.004736,
     "end_time": "2022-11-24T14:52:58.072315",
     "exception": false,
     "start_time": "2022-11-24T14:52:58.067579",
     "status": "completed"
    },
    "tags": [
     "injected-parameters"
    ]
   },
   "outputs": [],
   "source": [
    "# Parameters\n",
    "denyListURL = \"\"\n"
   ]
  },
  {
   "cell_type": "code",
   "execution_count": null,
   "id": "cb8afe2f",
   "metadata": {
    "papermill": {
     "duration": 0.001286,
     "end_time": "2022-11-24T14:52:58.075022",
     "exception": false,
     "start_time": "2022-11-24T14:52:58.073736",
     "status": "completed"
    },
    "tags": []
   },
   "outputs": [],
   "source": []
  },
  {
   "cell_type": "code",
   "execution_count": 4,
   "id": "98d3b063",
   "metadata": {
    "execution": {
     "iopub.execute_input": "2022-11-24T14:52:58.078775Z",
     "iopub.status.busy": "2022-11-24T14:52:58.078644Z",
     "iopub.status.idle": "2022-11-24T14:52:58.080412Z",
     "shell.execute_reply": "2022-11-24T14:52:58.080129Z"
    },
    "papermill": {
     "duration": 0.004812,
     "end_time": "2022-11-24T14:52:58.081497",
     "exception": false,
     "start_time": "2022-11-24T14:52:58.076685",
     "status": "completed"
    },
    "tags": []
   },
   "outputs": [],
   "source": [
    "\n",
    "#csv function ( to be implemented later)\n",
    "#online dataset function (to be implemented later)"
   ]
  },
  {
   "cell_type": "markdown",
   "id": "f0106535",
   "metadata": {
    "tags": [
     "papermill-error-cell-tag"
    ]
   },
   "source": [
    "<span id=\"papermill-error-cell\" style=\"color:red; font-family:Helvetica Neue, Helvetica, Arial, sans-serif; font-size:2em;\">Execution using papermill encountered an exception here and stopped:</span>"
   ]
  },
  {
   "cell_type": "code",
   "execution_count": 5,
   "id": "653e56b8",
   "metadata": {
    "execution": {
     "iopub.execute_input": "2022-11-24T14:52:58.085400Z",
     "iopub.status.busy": "2022-11-24T14:52:58.085256Z",
     "iopub.status.idle": "2022-11-24T14:52:58.437318Z",
     "shell.execute_reply": "2022-11-24T14:52:58.436789Z"
    },
    "papermill": {
     "duration": 0.355412,
     "end_time": "2022-11-24T14:52:58.438512",
     "exception": true,
     "start_time": "2022-11-24T14:52:58.083100",
     "status": "failed"
    },
    "tags": []
   },
   "outputs": [
    {
     "name": "stdout",
     "output_type": "stream",
     "text": [
      "\n",
      " Here we open and read the notebooks due to be open [['sample.ipynb']\n",
      " ['sample2.ipynb']\n",
      " ['Lab03.ipynb']] \n",
      "\n"
     ]
    },
    {
     "ename": "FileNotFoundError",
     "evalue": "[Errno 2] No such file or directory: 'notebookSamples/sample.ipynb'",
     "output_type": "error",
     "traceback": [
      "\u001b[0;31m---------------------------------------------------------------------------\u001b[0m",
      "\u001b[0;31mFileNotFoundError\u001b[0m                         Traceback (most recent call last)",
      "Input \u001b[0;32mIn [5]\u001b[0m, in \u001b[0;36m<cell line: 49>\u001b[0;34m()\u001b[0m\n\u001b[1;32m     44\u001b[0m         checkedNotebooks[\u001b[38;5;28mstr\u001b[39m(uncheckedNotebook)][\u001b[38;5;124m'\u001b[39m\u001b[38;5;124memails\u001b[39m\u001b[38;5;124m'\u001b[39m] \u001b[38;5;241m=\u001b[39m emailsFound\n\u001b[1;32m     46\u001b[0m     \u001b[38;5;28;01mreturn\u001b[39;00m checkedNotebooks \n\u001b[0;32m---> 49\u001b[0m notebookResults \u001b[38;5;241m=\u001b[39m \u001b[43mnotebookChecker\u001b[49m\u001b[43m(\u001b[49m\u001b[43mdenyListURL\u001b[49m\u001b[43m,\u001b[49m\u001b[43m \u001b[49m\u001b[43mnotebookListURL\u001b[49m\u001b[43m)\u001b[49m\n\u001b[1;32m     50\u001b[0m \u001b[38;5;28mprint\u001b[39m(notebookResults)\n",
      "Input \u001b[0;32mIn [5]\u001b[0m, in \u001b[0;36mnotebookChecker\u001b[0;34m(denyListURL, notebookListURL)\u001b[0m\n\u001b[1;32m     25\u001b[0m urlsFound \u001b[38;5;241m=\u001b[39m \u001b[38;5;241m0\u001b[39m\n\u001b[1;32m     26\u001b[0m emailsFound \u001b[38;5;241m=\u001b[39m \u001b[38;5;241m0\u001b[39m\n\u001b[0;32m---> 27\u001b[0m currentNotebook \u001b[38;5;241m=\u001b[39m \u001b[38;5;28;43mopen\u001b[39;49m\u001b[43m(\u001b[49m\u001b[38;5;28;43mstr\u001b[39;49m\u001b[43m(\u001b[49m\u001b[38;5;124;43mf\u001b[39;49m\u001b[38;5;124;43m\"\u001b[39;49m\u001b[38;5;124;43mnotebookSamples/\u001b[39;49m\u001b[38;5;132;43;01m{\u001b[39;49;00m\u001b[43muncheckedNotebook\u001b[49m\u001b[43m[\u001b[49m\u001b[38;5;241;43m0\u001b[39;49m\u001b[43m]\u001b[49m\u001b[38;5;132;43;01m}\u001b[39;49;00m\u001b[38;5;124;43m\"\u001b[39;49m\u001b[43m)\u001b[49m\u001b[43m,\u001b[49m\u001b[43m \u001b[49m\u001b[38;5;124;43m\"\u001b[39;49m\u001b[38;5;124;43mr\u001b[39;49m\u001b[38;5;124;43m\"\u001b[39;49m\u001b[43m)\u001b[49m\n\u001b[1;32m     28\u001b[0m \u001b[38;5;66;03m# here we check line by line the the terms found which are added to a list \u001b[39;00m\n\u001b[1;32m     29\u001b[0m disallowedTermCount \u001b[38;5;241m=\u001b[39m {term : \u001b[38;5;241m0\u001b[39m \u001b[38;5;28;01mfor\u001b[39;00m term \u001b[38;5;129;01min\u001b[39;00m disallowedTerms}\n",
      "\u001b[0;31mFileNotFoundError\u001b[0m: [Errno 2] No such file or directory: 'notebookSamples/sample.ipynb'"
     ]
    }
   ],
   "source": [
    "\n",
    "#notebook checker function \n",
    "def notebookChecker(denyListURL, notebookListURL):\n",
    "    denyTerms = pd.read_csv('denylist.csv')\n",
    "    deniedTerms = np.array(denyTerms)\n",
    "    denyList = {}\n",
    "    for terms in deniedTerms:\n",
    "        denyList.update({terms[0]:terms[1]})\n",
    "    # print (f\"\\n Here we check the terms and their corresponding weights {denyList} \\n\")    \n",
    "    \n",
    "    disallowedTerms = []\n",
    "    for term in denyList.keys():\n",
    "        disallowedTerms += [term]\n",
    "    #print (f\"\\n here we assign the terms to be checked to a list {terms} \\n\")\n",
    "    \n",
    "    checkedNotebooks = {}\n",
    "    \n",
    "    notebookList = pd.read_csv('notebooklist.csv')\n",
    "    uncheckedNotebooks = np.array(notebookList)\n",
    "    print (f\"\\n Here we open and read the notebooks due to be open {uncheckedNotebooks} \\n\")\n",
    "    \n",
    "\n",
    "    #loop through files from list\n",
    "    for uncheckedNotebook in uncheckedNotebooks:\n",
    "        notebook = {}\n",
    "        urlsFound = 0\n",
    "        emailsFound = 0\n",
    "        currentNotebook = open(str(f\"notebookSamples/{uncheckedNotebook[0]}\"), \"r\")\n",
    "        # here we check line by line the the terms found which are added to a list \n",
    "        disallowedTermCount = {term : 0 for term in disallowedTerms}\n",
    "        \n",
    "        for line in currentNotebook:\n",
    "            #loop trough line by line\n",
    "            emailsFound += emailRegExChecker.emailChecker(line) \n",
    "            if urlRegExChecker.urlChecker(line) == True:\n",
    "                urlsFound += 1\n",
    "\n",
    "            checkedLine = disallowedTermCheck.termCheck(disallowedTerms, line)\n",
    "            for term in checkedLine:\n",
    "                if checkedLine[term] > 0:\n",
    "                    disallowedTermCount[term] += 1\n",
    "                    notebook.update({term: int(disallowedTermCount[term]) * int(denyList[term])}) \n",
    "                    checkedNotebooks.update({str(uncheckedNotebook): notebook})\n",
    "        checkedNotebooks[str(uncheckedNotebook)]['urls'] = urlsFound\n",
    "        checkedNotebooks[str(uncheckedNotebook)]['emails'] = emailsFound\n",
    "\n",
    "    return checkedNotebooks \n",
    "    \n",
    "    \n",
    "notebookResults = notebookChecker(denyListURL, notebookListURL)\n",
    "print(notebookResults)"
   ]
  },
  {
   "cell_type": "code",
   "execution_count": null,
   "id": "e8c23017",
   "metadata": {
    "papermill": {
     "duration": null,
     "end_time": null,
     "exception": null,
     "start_time": null,
     "status": "pending"
    },
    "tags": []
   },
   "outputs": [],
   "source": [
    "totals = {}\n",
    "\n",
    "for nb in notebookResults:\n",
    "    results = 0\n",
    "    for term in notebookResults[nb]:\n",
    "        results += notebookResults[nb][term]\n",
    "    nb = nb.rsplit('.', 1)[0]\n",
    "    nb = nb.rsplit('\\'', 1)[1]\n",
    "    totals[nb] = results\n",
    "print(totals)\n",
    "orderedResults = {term : score for term,score in sorted(totals.items(), key=lambda item:item[1])}\n",
    "\n",
    "#PLot examples\n",
    "f = plt.figure()\n",
    "f.set_figwidth(3)\n",
    "f.set_figheight(5)\n",
    "plt.bar(range(len(orderedResults)),list(orderedResults.values()),align='center',color=['r','g','b'])\n",
    "plt.xticks(range(len(orderedResults)),list(orderedResults.keys()))\n",
    "plt.xlabel('Notebook Names')\n",
    "plt.ylabel('Score')\n",
    "plt.show"
   ]
  },
  {
   "cell_type": "code",
   "execution_count": null,
   "id": "e295a630",
   "metadata": {
    "papermill": {
     "duration": null,
     "end_time": null,
     "exception": null,
     "start_time": null,
     "status": "pending"
    },
    "tags": []
   },
   "outputs": [],
   "source": [
    "for result in notebookResults:\n",
    "    terms = notebookResults[result]\n",
    "    g = plt.figure()\n",
    "    g.set_figwidth(3)\n",
    "    g.set_figheight(5)\n",
    "    plt.bar(range(len(terms)),list(terms.values()),align='center',color=['r','g','b'])\n",
    "    plt.xticks(range(len(terms)),list(terms.keys()))\n",
    "    plt.xlabel(f\" {result}\")\n",
    "    plt.ylabel('Score')\n",
    "    plt.show"
   ]
  },
  {
   "cell_type": "code",
   "execution_count": null,
   "id": "1a2d8045",
   "metadata": {
    "papermill": {
     "duration": null,
     "end_time": null,
     "exception": null,
     "start_time": null,
     "status": "pending"
    },
    "tags": []
   },
   "outputs": [],
   "source": [
    "#print in table\n",
    "print('Notebook, terms found')\n",
    "for k,v in notebookResults.items():\n",
    "    print(k,v)"
   ]
  },
  {
   "cell_type": "code",
   "execution_count": null,
   "id": "707213d5",
   "metadata": {
    "papermill": {
     "duration": null,
     "end_time": null,
     "exception": null,
     "start_time": null,
     "status": "pending"
    },
    "tags": []
   },
   "outputs": [],
   "source": [
    "df = pd.DataFrame.from_dict(notebookResults, orient='index')\n",
    "print('terms found:')\n",
    "print(df)"
   ]
  },
  {
   "cell_type": "code",
   "execution_count": null,
   "id": "4ff8bf24",
   "metadata": {
    "papermill": {
     "duration": null,
     "end_time": null,
     "exception": null,
     "start_time": null,
     "status": "pending"
    },
    "tags": []
   },
   "outputs": [],
   "source": [
    "#do we add open CSV function\n",
    "#do we add open dataset function "
   ]
  }
 ],
 "metadata": {
  "kernelspec": {
   "display_name": "Python 3 (ipykernel)",
   "language": "python",
   "name": "python3"
  },
  "language_info": {
   "codemirror_mode": {
    "name": "ipython",
    "version": 3
   },
   "file_extension": ".py",
   "mimetype": "text/x-python",
   "name": "python",
   "nbconvert_exporter": "python",
   "pygments_lexer": "ipython3",
   "version": "3.9.12"
  },
  "papermill": {
   "default_parameters": {},
   "duration": 4.585232,
   "end_time": "2022-11-24T14:52:59.641874",
   "environment_variables": {},
   "exception": true,
   "input_path": "notebookChecker.ipynb",
   "output_path": "checkedNotebooks2022.ipynb",
   "parameters": {
    "denyListURL": ""
   },
   "start_time": "2022-11-24T14:52:55.056642",
   "version": "2.4.0"
  },
  "vscode": {
   "interpreter": {
    "hash": "40d3a090f54c6569ab1632332b64b2c03c39dcf918b08424e98f38b5ae0af88f"
   }
  }
 },
 "nbformat": 4,
 "nbformat_minor": 5
}
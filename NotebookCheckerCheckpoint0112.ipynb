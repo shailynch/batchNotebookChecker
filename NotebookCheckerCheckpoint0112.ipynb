{
 "cells": [
  {
   "cell_type": "code",
   "execution_count": 1,
   "metadata": {},
   "outputs": [],
   "source": [
    "#import require libraries:\n",
    "\n",
    "# *** Should we import these inside functions mixed eview on practices as it is dire to program but if functiond pulled out ad implemented in other code will require this \n",
    "import pandas as pd\n",
    "import csv\n",
    "import numpy as np\n",
    "import matplotlib.pyplot as plt\n",
    "import re\n",
    "import os\n",
    "import json\n",
    "import codecs\n",
    "import ast\n",
    "\n",
    "from os import path\n",
    "#import word and regex functions for checking \n",
    "from RegEx_Checker_UT import check_lines_for_patterns\n",
    "# from unit_testing_nonallowedwords import checkword"
   ]
  },
  {
   "cell_type": "code",
   "execution_count": 2,
   "metadata": {
    "tags": [
     "parameters"
    ]
   },
   "outputs": [],
   "source": [
    "#parameters for disallowed list and url \n",
    "disallowedTermsListURL = \"disallowedTermsList.csv\"\n",
    "patternListURL = \"regexPatterns.csv\"\n",
    "notebookListURL =\"notebooklist.csv\"\n",
    "#updateable csv to hold list of regex can we check csv or list implementation against this what is client preference ? \n",
    "#while loop while true use csv whilst false use list "
   ]
  },
  {
   "cell_type": "code",
   "execution_count": 3,
   "metadata": {},
   "outputs": [],
   "source": [
    "def readNotebook(notebookToReadPath):\n",
    "    try:\n",
    "                file = codecs.open(notebookToReadPath, \"r\")\n",
    "                source = file.read()\n",
    "                y = json.loads(source)\n",
    "                currentNotebook = []\n",
    "                for x in y['cells']:\n",
    "                    for x2 in x['source']:\n",
    "                        currentNotebook.append(x2)\n",
    "                \n",
    "                return currentNotebook\n",
    "    except:\n",
    "        print(\"Can't read file\")\n",
    "        return False"
   ]
  },
  {
   "cell_type": "code",
   "execution_count": 4,
   "metadata": {},
   "outputs": [],
   "source": [
    "import re\n",
    "\n",
    "# Check inpout lines against input patterns/rules\n",
    "def check_lines_for_patterns(patternList, line):\n",
    "    outputList = {pattern : 0 for pattern in patternList}\n",
    "    # Return if the line matches the current pattern\n",
    "    for pattern in patternList:\n",
    "        searchResults = re.findall(pattern, line)\n",
    "        if len(searchResults) > 0:\n",
    "            outputList[pattern] = len(searchResults)\n",
    "    return outputList\n",
    "\n",
    "    \n",
    "    # # If no line matches a pattern/rule, the output list will be empty\n",
    "    # if not output_list:\n",
    "    #     print(\"No lines matched any rules!\")\n",
    "    # else:\n",
    "    #     # Output list to be returned\n",
    "    #     return(output_list)\n"
   ]
  },
  {
   "cell_type": "code",
   "execution_count": 5,
   "metadata": {},
   "outputs": [],
   "source": [
    "#forbidden words function\n",
    "def checkTerms(line, deniedTerms): \n",
    "    import re\n",
    "    #denied terms = list of terms to be checked e.g ['this', 'style', 'layout']\n",
    "    #line takes any line to be checked this format doesn't matter but prefers string\n",
    "    terms_count = {term : 0 for term in deniedTerms}\n",
    "    for term in deniedTerms:\n",
    "                #loop through terms \n",
    "                if re.search(term,line, re.IGNORECASE):\n",
    "                    #check term in line\n",
    "                    terms_count[term] += 1\n",
    "#                     print(terms_count) #to see this carried out line by line\n",
    "    return terms_count"
   ]
  },
  {
   "cell_type": "code",
   "execution_count": 19,
   "metadata": {},
   "outputs": [
    {
     "name": "stdout",
     "output_type": "stream",
     "text": [
      "['sample.ipynb']\n",
      "{'security': 16, 'class': 9, 'people': 6, 'adhesion': 0}\n",
      "44\n",
      "['sample2.ipynb']\n",
      "{'security': 8, 'class': 6, 'people': 4, 'adhesion': 0}\n",
      "31\n"
     ]
    }
   ],
   "source": [
    "directory = path.dirname(__file__) if \"__file__\" in locals() else os.getcwd()\n",
    "#new way of reading compare against pandas - pandas is notebook specific which can be used innoteook checkerbut not used in normal functions \n",
    "\n",
    "#notebook checker function \n",
    "def notebookChecker(disallowedTermsListURL, patternListURL, notebookListURL):\n",
    "    disallowedTermss = pd.read_csv(path.join(directory, disallowedTermsListURL))\n",
    "    sortedList = pd.DataFrame(disallowedTermss, columns=['index','word','weight'])\n",
    "    sortedList = np.array(sortedList)\n",
    "    termIndexKey = {} \n",
    "    termWeightKey = {}\n",
    "    disallowedList = []\n",
    "    overallTermCount = {}\n",
    "    for item in sortedList:\n",
    "        termIndexKey.update({item[1]:item[0]})\n",
    "        termWeightKey.update({item[1]:item[2]})\n",
    "        disallowedList.append(item[1])\n",
    "        \n",
    "        \n",
    "    # print(f\"index {termIndexKey} \\n weight {termWeightKey}\")\n",
    "    # dictionary of word:rule_num and dictionary of word:weight\n",
    "\n",
    "    patternList = pd.read_csv(path.join(directory, patternListURL))\n",
    "    sortedPatternList = pd.DataFrame(patternList, columns=['index','pattern','weight'])\n",
    "    sortedPatternList = np.array(sortedPatternList)\n",
    "    patternIndexKey = {}\n",
    "    patternWeightKey ={}\n",
    "    \n",
    "    disallowedPatternList = []\n",
    "    #here we take the regex patterns and ad them to the list to be checked by regex function\n",
    "    for item in sortedPatternList:\n",
    "        patternIndexKey.update({item[1]:item[0]})\n",
    "        patternWeightKey.update({item[1]:item[2]})\n",
    "        disallowedPatternList.append(item[1])\n",
    "    # print(disallowedPatternList)\n",
    "    overallPatternCount = {pattern : 0 for pattern in disallowedPatternList}\n",
    "\n",
    "    checkedNotebooks = {}\n",
    "    \n",
    "    notebookList = pd.read_csv(path.join(directory, notebookListURL))\n",
    "    uncheckedNotebooks = np.array(notebookList)\n",
    "    # print (f\"\\n Here we open and read the notebooks due to be open {uncheckedNotebooks} \\n\")\n",
    "    \n",
    "\n",
    "    #loop through files from list\n",
    "\n",
    "    for uncheckedNotebook in uncheckedNotebooks:\n",
    "        \n",
    "        overallScore = 0\n",
    "        notebook = {}\n",
    "        # here we check line by line the the terms found which are added to a list \n",
    "        notebookToRead = str(f\"{path.join(directory, uncheckedNotebook[0])}\")\n",
    "        contents = readNotebook(notebookToRead)\n",
    "        \n",
    "        lineNum = 1\n",
    "        for item in sortedList:\n",
    "            overallTermCount[item[1]] = 0\n",
    "        \n",
    "        overallTermCountByLine = {}\n",
    "        overallPatternCountByLine = {}\n",
    "        \n",
    "        for contentLine in contents:\n",
    "            # print(f\"\\n content line {contentLine} \\n\")\n",
    "            termResults = checkTerms(contentLine, disallowedList)\n",
    "            if termResults != False:\n",
    "                # print(termResults)\n",
    "                overallTermCountByLine[lineNum] = termResults\n",
    "                for term in overallTermCount:\n",
    "                    if termResults[term] > 0 :\n",
    "                        overallTermCount[term] += termResults[term]\n",
    "                        overallScore += termResults[term]\n",
    "            else:\n",
    "                overallTermCountByLine[lineNum] = 'none found'\n",
    "            \n",
    "            regExOutput = check_lines_for_patterns(disallowedPatternList, contentLine)\n",
    "            overallPatternCountByLine[lineNum] = regExOutput\n",
    "            for patternsFound in regExOutput:\n",
    "                overallPatternCount[patternsFound] += regExOutput[patternsFound]\n",
    "                overallScore += regExOutput[patternsFound]\n",
    "            lineNum += 1\n",
    "        print(uncheckedNotebook)\n",
    "        print(overallTermCount)\n",
    "        # print(overallPatternCount)\n",
    "        # print(overallTermCountByLine)\n",
    "        # # print(overallPatternCountByLine)\n",
    "        print(overallScore)\n",
    "        checkedNotebooks.update({str(uncheckedNotebook): {'overallScore': overallScore,'overallTermCount' : str(overallTermCount),'overallTermCountByLine' : str(overallTermCountByLine), 'overallPatternCount' : str(overallPatternCount),'overallPatternCountByLine' : str(overallPatternCountByLine)}})\n",
    "  \n",
    "        \n",
    "    return checkedNotebooks \n",
    "        \n",
    "\n",
    "notebookResults = notebookChecker(disallowedTermsListURL, patternListURL, notebookListURL)\n",
    "# print(notebookResults)"
   ]
  },
  {
   "cell_type": "markdown",
   "metadata": {},
   "source": [
    "# Here we check results"
   ]
  },
  {
   "cell_type": "code",
   "execution_count": 26,
   "metadata": {},
   "outputs": [
    {
     "name": "stdout",
     "output_type": "stream",
     "text": [
      "dict_keys([\"['sample.ipynb']\", \"['sample2.ipynb']\"])\n",
      "dict_keys(['overallScore', 'overallTermCount', 'overallTermCountByLine', 'overallPatternCount', 'overallPatternCountByLine'])\n",
      "dict_keys(['overallScore', 'overallTermCount', 'overallTermCountByLine', 'overallPatternCount', 'overallPatternCountByLine'])\n"
     ]
    }
   ],
   "source": [
    "totals = {}\n",
    "print(notebookResults.keys())\n",
    "for result in notebookResults:\n",
    "    print(notebookResults[result].keys())\n",
    "    \n",
    "    totals[result] = notebookResults[result].get('overallScore')\n",
    "    # return back to dictionary for graphs\n",
    "# print(totals)\n"
   ]
  },
  {
   "cell_type": "code",
   "execution_count": 27,
   "metadata": {},
   "outputs": [
    {
     "data": {
      "text/plain": [
       "<function matplotlib.pyplot.show(close=None, block=None)>"
      ]
     },
     "execution_count": 27,
     "metadata": {},
     "output_type": "execute_result"
    },
    {
     "data": {
      "image/png": "[encoded data removed]",
      "text/plain": [
       "<Figure size 216x360 with 1 Axes>"
      ]
     },
     "metadata": {
      "needs_background": "light"
     },
     "output_type": "display_data"
    }
   ],
   "source": [
    "orderedResults = { nb:score for nb,score in sorted(totals.items(), key=lambda item:item[1])}\n",
    "\n",
    "#PLot examples\n",
    "f = plt.figure()\n",
    "f.set_figwidth(3)\n",
    "f.set_figheight(5)\n",
    "plt.bar(range(len(orderedResults)),list(orderedResults.values()),align='center',color=['r','g','b'])\n",
    "plt.xticks(range(len(orderedResults)),list(orderedResults.keys()))\n",
    "plt.xlabel('Notebook Names')\n",
    "plt.ylabel('Score')\n",
    "plt.show"
   ]
  },
  {
   "cell_type": "code",
   "execution_count": 28,
   "metadata": {},
   "outputs": [
    {
     "data": {
      "image/png": "[encoded data removed]",
      "text/plain": [
       "<Figure size 216x360 with 1 Axes>"
      ]
     },
     "metadata": {
      "needs_background": "light"
     },
     "output_type": "display_data"
    },
    {
     "data": {
      "image/png": "[encoded data removed]",
      "text/plain": [
       "<Figure size 216x360 with 1 Axes>"
      ]
     },
     "metadata": {
      "needs_background": "light"
     },
     "output_type": "display_data"
    }
   ],
   "source": [
    "# make rule numbers\n",
    "for result in notebookResults:\n",
    "    terms = ast.literal_eval(notebookResults[result]['overallTermCount'])\n",
    "    g = plt.figure()\n",
    "    g.set_figwidth(3)\n",
    "    g.set_figheight(5)\n",
    "    plt.bar(range(len(terms)),list(terms.values()),align='center',color=['r','g','b'])\n",
    "    plt.xticks(range(len(terms)),list(terms.keys()))\n",
    "    plt.xlabel(f\" {result}\")\n",
    "    plt.ylabel('Score')\n",
    "    plt.show"
   ]
  },
  {
   "cell_type": "code",
   "execution_count": null,
   "metadata": {},
   "outputs": [],
   "source": [
    "# make rule numbers \n",
    "for result in notebookResults:\n",
    "    terms = notebookResults[result]['patternChecktotals'][result]['overallPatternCount']\n",
    "    df = pd.DataFrame.from_dict(notebookResults[result]['patternChecktotals'][result]['overallPatternCount'], orient='index')\n",
    "    print(f\"{result}: \\n {df}\")\n",
    "    g = plt.figure()\n",
    "    g.set_figwidth(3)\n",
    "    g.set_figheight(5)\n",
    "    plt.bar(range(len(terms)),list(terms.values()),align='center',color=['r','g','b'])\n",
    "    plt.xticks(range(len(terms)),list(terms.keys()))\n",
    "    plt.xlabel(f\" {result}\")\n",
    "    plt.ylabel('Score')\n",
    "    plt.show"
   ]
  },
  {
   "cell_type": "code",
   "execution_count": null,
   "metadata": {},
   "outputs": [],
   "source": []
  }
 ],
 "metadata": {
  "kernelspec": {
   "display_name": "Python 3.9.12 ('base')",
   "language": "python",
   "name": "python3"
  },
  "language_info": {
   "codemirror_mode": {
    "name": "ipython",
    "version": 3
   },
   "file_extension": ".py",
   "mimetype": "text/x-python",
   "name": "python",
   "nbconvert_exporter": "python",
   "pygments_lexer": "ipython3",
   "version": "3.9.12"
  },
  "orig_nbformat": 4,
  "vscode": {
   "interpreter": {
    "hash": "40d3a090f54c6569ab1632332b64b2c03c39dcf918b08424e98f38b5ae0af88f"
   }
  }
 },
 "nbformat": 4,
 "nbformat_minor": 2
}

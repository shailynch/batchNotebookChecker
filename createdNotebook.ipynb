{
 "cells": [
  {
   "cell_type": "code",
   "execution_count": 1,
   "metadata": {},
   "outputs": [],
   "source": [
    "import pathlib\n",
    "import os\n",
    "path = pathlib.Path().resolve()\n",
    "path = str(path)+\"/createdNotebook.ipynb\"\n",
    "backupPath = os.path.dirname(os.path.realpath(\"__file__\"))+\"/createdNotebook.ipynb\"\n",
    "directory = pathlib.Path().resolve()\n",
    "filename = \"createdNotebook.ipynb\"\n"
   ]
  },
  {
   "cell_type": "markdown",
   "metadata": {},
   "source": [
    "random markdown"
   ]
  },
  {
   "cell_type": "code",
   "execution_count": 2,
   "metadata": {},
   "outputs": [],
   "source": [
    "#war\n",
    "#asylum\n",
    "#asda\n",
    "#more war"
   ]
  },
  {
   "cell_type": "code",
   "execution_count": 4,
   "metadata": {},
   "outputs": [
    {
     "name": "stdout",
     "output_type": "stream",
     "text": [
      "          Total Score\n",
      "security            4\n",
      "asylum              5\n",
      "war                 6\n",
      "{'security': 4, 'war': 6, 'asylum': 5}\n"
     ]
    },
    {
     "data": {
      "image/png": "[encoded data removed]",
      "text/plain": [
       "<Figure size 216x360 with 1 Axes>"
      ]
     },
     "metadata": {
      "needs_background": "light"
     },
     "output_type": "display_data"
    }
   ],
   "source": [
    "import fileNotebookChecker.fileNotebookChecker as fileNotebookChecker\n",
    "\n",
    "evaluation = fileNotebookChecker.evaluateNotebook(directory,filename)\n",
    "print(evaluation)"
   ]
  },
  {
   "cell_type": "code",
   "execution_count": null,
   "metadata": {},
   "outputs": [],
   "source": [
    "deniedTerms = ['security', 'war','asylum']\n",
    "evaluationWithList = fileNotebookChecker.evaluateNotebookWithList(directory,filename,deniedTerms)"
   ]
  }
 ],
 "metadata": {
  "kernelspec": {
   "display_name": "Python 3.9.12 ('base')",
   "language": "python",
   "name": "python3"
  },
  "language_info": {
   "codemirror_mode": {
    "name": "ipython",
    "version": 3
   },
   "file_extension": ".py",
   "mimetype": "text/x-python",
   "name": "python",
   "nbconvert_exporter": "python",
   "pygments_lexer": "ipython3",
   "version": "3.9.12"
  },
  "orig_nbformat": 4,
  "vscode": {
   "interpreter": {
    "hash": "40d3a090f54c6569ab1632332b64b2c03c39dcf918b08424e98f38b5ae0af88f"
   }
  }
 },
 "nbformat": 4,
 "nbformat_minor": 2
}

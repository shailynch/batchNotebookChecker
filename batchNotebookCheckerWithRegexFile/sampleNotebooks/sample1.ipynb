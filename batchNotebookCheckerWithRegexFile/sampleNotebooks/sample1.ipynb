{
 "cells": [
  {
   "cell_type": "code",
   "execution_count": null,
   "metadata": {},
   "outputs": [],
   "source": [
    "# classsecurity\n",
    "# security \n",
    "# securityasdapeopleclass\n",
    "# securitypeopleclass\n",
    "# http://www.asda.com\n"
   ]
  },
  {
   "cell_type": "markdown",
   "metadata": {},
   "source": [
    "https://www.asda.com\n",
    "classsecurity\n",
    "security \n",
    "securityasdapeopleclass\n",
    "securitypeopleclass\n",
    "http://www.asda.com"
   ]
  },
  {
   "cell_type": "code",
   "execution_count": null,
   "metadata": {},
   "outputs": [],
   "source": [
    "url = \"https://www.asda.com\"\n",
    "s1 = \"classsecurity\"\n",
    "s2 = \"security\" \n",
    "s3 = \"securityasdapeopleclass\"\n",
    "s4 = \"securitypeopleclass\"\n",
    "num1 = 50\n",
    "num2 = 100\n",
    "security\n",
    "security\n",
    "security\n",
    "security"
   ]
  }
 ],
 "metadata": {
  "kernelspec": {
   "display_name": "Python 3.9.12 ('base')",
   "language": "python",
   "name": "python3"
  },
  "language_info": {
   "name": "python",
   "version": "3.9.12"
  },
  "orig_nbformat": 4,
  "vscode": {
   "interpreter": {
    "hash": "40d3a090f54c6569ab1632332b64b2c03c39dcf918b08424e98f38b5ae0af88f"
   }
  }
 },
 "nbformat": 4,
 "nbformat_minor": 2
}

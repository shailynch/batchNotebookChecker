{
 "cells": [
  {
   "cell_type": "code",
   "execution_count": 10,
   "metadata": {},
   "outputs": [
    {
     "name": "stdout",
     "output_type": "stream",
     "text": [
      "False\n"
     ]
    }
   ],
   "source": [
    "\n",
    "#email emails - extra functionality online datasets and csv checks\n",
    "def emailChecker(line):\n",
    "    import re\n",
    "    emailRegex = r\"(^[a-zA-Z0-9_.+-]+@[a-zA-Z0-9-]+\\.[a-zA-Z0-9-.]+$)\"\n",
    "    email = re.findall(emailRegex,line) \n",
    "    if not email:\n",
    "        emails_found = False\n",
    "    else:\n",
    "        emails_found = True \n",
    "\n",
    "    \n",
    "    return emails_found\n",
    "# example\n",
    "# print(emailChecker('shai.lynch.sl@gmail.com'))\n",
    "\n",
    "# classsecurity\n",
    "# security \n",
    "# securityasdapeopleclass\n",
    "#securitypeopleclass\n",
    "# http://www.asda.com\n",
    "#\n",
    "# shai.lynch.sl@gmail.com\n",
    "#shai.lynch.sl@gmail.comfdbhfjbhdfbhjfdbhfdb\n",
    "\n",
    "def emailChecker2(line):\n",
    "    import re\n",
    "    if re.search (r\"(^[a-zA-Z0-9_.+-]+@[a-zA-Z0-9-]+\\.[a-zA-Z0-9-.]+$)\", line) is not None:\n",
    "        return True\n",
    "    else:\n",
    "        return False\n",
    "\n",
    "print(emailChecker2('shai.lynch.sl@gmail.com'))"
   ]
  }
 ],
 "metadata": {
  "kernelspec": {
   "display_name": "Python 3.11.0 64-bit",
   "language": "python",
   "name": "python3"
  },
  "language_info": {
   "codemirror_mode": {
    "name": "ipython",
    "version": 3
   },
   "file_extension": ".py",
   "mimetype": "text/x-python",
   "name": "python",
   "nbconvert_exporter": "python",
   "pygments_lexer": "ipython3",
   "version": "3.11.0"
  },
  "orig_nbformat": 4,
  "vscode": {
   "interpreter": {
    "hash": "aee8b7b246df8f9039afb4144a1f6fd8d2ca17a180786b69acc140d282b71a49"
   }
  }
 },
 "nbformat": 4,
 "nbformat_minor": 2
}
